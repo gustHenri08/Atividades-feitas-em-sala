{
  "nbformat": 4,
  "nbformat_minor": 0,
  "metadata": {
    "colab": {
      "name": "atividade 1 de python - Gustavo Henrique",
      "version": "0.3.2",
      "provenance": [],
      "include_colab_link": true
    },
    "kernelspec": {
      "name": "python3",
      "display_name": "Python 3"
    }
  },
  "cells": [
    {
      "cell_type": "markdown",
      "metadata": {
        "id": "view-in-github",
        "colab_type": "text"
      },
      "source": [
        "<a href=\"https://colab.research.google.com/github/gustHenri08/Atividades-feitas-em-sala/blob/master/atividade_1_de_python_Gustavo_Henrique.ipynb\" target=\"_parent\"><img src=\"https://colab.research.google.com/assets/colab-badge.svg\" alt=\"Open In Colab\"/></a>"
      ]
    },
    {
      "cell_type": "code",
      "metadata": {
        "id": "pNtoCcv0INnA",
        "colab_type": "code",
        "colab": {
          "base_uri": "https://localhost:8080/",
          "height": 51
        },
        "outputId": "14c4a8ee-f93b-43b4-a8f8-aa241d2778ab"
      },
      "source": [
        "def fatorial():\n",
        "      n = int(input(\"digite o valor de n: \"))\n",
        "      fat = 1\n",
        "      i = 1\n",
        "      while i<= n:\n",
        "            fat = fat*i\n",
        "            i = i+1\n",
        "      print(\"O valor de n é: \", fat)\n",
        "      \n",
        "fatorial()\n",
        "      \n",
        "  "
      ],
      "execution_count": 8,
      "outputs": [
        {
          "output_type": "stream",
          "text": [
            "digite o valor de n: 3\n",
            "O valor de n é:  6\n"
          ],
          "name": "stdout"
        }
      ]
    },
    {
      "cell_type": "code",
      "metadata": {
        "id": "q0F2FWsbeCkk",
        "colab_type": "code",
        "colab": {
          "base_uri": "https://localhost:8080/",
          "height": 51
        },
        "outputId": "27d959c1-c743-43a1-fc68-52a1ce543134"
      },
      "source": [
        "numero = float(input('Digite um número:'))\n",
        "resto = numero % 2\n",
        "\n",
        "if resto == 0:\n",
        "    print('Número é par')\n",
        "else:\n",
        "    print('Número é impar')"
      ],
      "execution_count": 6,
      "outputs": [
        {
          "output_type": "stream",
          "text": [
            "Digite um número:6\n",
            "Número é par\n"
          ],
          "name": "stdout"
        }
      ]
    },
    {
      "cell_type": "code",
      "metadata": {
        "id": "8hq78Wt7LFU2",
        "colab_type": "code",
        "colab": {
          "base_uri": "https://localhost:8080/",
          "height": 51
        },
        "outputId": "7126a010-1b15-46a5-b9fa-884dfdd9ab1b"
      },
      "source": [
        "n1 = int(input('Entre com o número: '))\n",
        "i = 1\n",
        "t = 0\n",
        "while t < n1:\n",
        "\tt = i*(i+1)*(i+2)\n",
        "\ti += 1\n",
        "\n",
        "if t == n1:\n",
        "\tprint ('%d é triangular' %n1)\n",
        "else: \n",
        "\tprint ('%d não é triangular' %n1)"
      ],
      "execution_count": 5,
      "outputs": [
        {
          "output_type": "stream",
          "text": [
            "Entre com o número: 6\n",
            "6 é triangular\n"
          ],
          "name": "stdout"
        }
      ]
    }
  ]
}