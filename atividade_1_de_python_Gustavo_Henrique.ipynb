{
  "nbformat": 4,
  "nbformat_minor": 0,
  "metadata": {
    "colab": {
      "name": "atividade 1 de python - Gustavo Henrique",
      "version": "0.3.2",
      "provenance": [],
      "include_colab_link": true
    },
    "kernelspec": {
      "name": "python3",
      "display_name": "Python 3"
    }
  },
  "cells": [
    {
      "cell_type": "markdown",
      "metadata": {
        "id": "view-in-github",
        "colab_type": "text"
      },
      "source": [
        "<a href=\"https://colab.research.google.com/github/gustHenri08/Atividades-feitas-em-sala/blob/master/atividade_1_de_python_Gustavo_Henrique.ipynb\" target=\"_parent\"><img src=\"https://colab.research.google.com/assets/colab-badge.svg\" alt=\"Open In Colab\"/></a>"
      ]
    },
    {
      "cell_type": "code",
      "metadata": {
        "id": "pNtoCcv0INnA",
        "colab_type": "code",
        "colab": {}
      },
      "source": [
        "def fatorial():\n",
        "      n = int(input(\"digite o valor de n: \"))\n",
        "      fat = 1\n",
        "      i = 1\n",
        "      while i<= n:\n",
        "            fat = fat*i\n",
        "            i = i+1\n",
        "      print(\"O valor de n é: \", fat)\n",
        "      fat = fat * n\n",
        "      print(\"tentativa de bug\", fat)\n",
        "fatorial()\n",
        "      \n",
        "  "
      ],
      "execution_count": 0,
      "outputs": []
    },
    {
      "cell_type": "code",
      "metadata": {
        "id": "q0F2FWsbeCkk",
        "colab_type": "code",
        "colab": {}
      },
      "source": [
        "numero = float(input('Digite um número:'))\n",
        "resto = numero % 2\n",
        "\n",
        "if resto == 0:\n",
        "    print('Número é par')\n",
        "else:\n",
        "    print('Número é impar')"
      ],
      "execution_count": 0,
      "outputs": []
    }
  ]
}